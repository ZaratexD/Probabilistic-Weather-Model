{
 "cells": [
  {
   "cell_type": "code",
   "execution_count": 8,
   "id": "d20b314f",
   "metadata": {},
   "outputs": [],
   "source": [
    "import numpy as np\n",
    "import matplotlib.pyplot as plt\n",
    "from scipy.integrate import solve_ivp\n",
    "\n",
    "import time"
   ]
  },
  {
   "cell_type": "code",
   "execution_count": 4,
   "id": "1f8c5ef7",
   "metadata": {},
   "outputs": [],
   "source": [
    "def fitzhugh(t, y, a, b, c, I):\n",
    "    v, w = y\n",
    "    dv = -v**3 + (1 + a)*v**2 -a*v - w + I\n",
    "    dw = b*v - c*w\n",
    "    return [dv, dw]"
   ]
  },
  {
   "cell_type": "code",
   "execution_count": 10,
   "id": "400caafb",
   "metadata": {},
   "outputs": [],
   "source": [
    "#a .1 periodic .2 subthreshold .3 single spike\n",
    "a = 0.3\n",
    "b = 0.01\n",
    "c = 0.01\n",
    "I = 0.1\n",
    "\n",
    "# initial conditions and time grid\n",
    "vinit, winit = 0.2, 0.0\n",
    "T = 400.0\n",
    "deltaT = 0.05\n",
    "t_eval = np.arange(0.0, T, deltaT)\n",
    "\n",
    "#solver tolerance\n",
    "rtol = 1e-10\n",
    "atol = np.array([1e-10, 1e-10])"
   ]
  },
  {
   "cell_type": "code",
   "execution_count": null,
   "id": "2fa074a5",
   "metadata": {},
   "outputs": [],
   "source": []
  },
  {
   "cell_type": "code",
   "execution_count": null,
   "id": "5497bbea",
   "metadata": {},
   "outputs": [
    {
     "ename": "NameError",
     "evalue": "name 'start' is not defined",
     "output_type": "error",
     "traceback": [
      "\u001b[0;31m---------------------------------------------------------------------------\u001b[0m",
      "\u001b[0;31mNameError\u001b[0m                                 Traceback (most recent call last)",
      "Cell \u001b[0;32mIn[11], line 15\u001b[0m\n\u001b[1;32m     13\u001b[0m w \u001b[38;5;241m=\u001b[39m sol\u001b[38;5;241m.\u001b[39my[\u001b[38;5;241m1\u001b[39m, :]\n\u001b[1;32m     14\u001b[0m end \u001b[38;5;241m=\u001b[39m time\u001b[38;5;241m.\u001b[39mtime()\n\u001b[0;32m---> 15\u001b[0m \u001b[38;5;28mprint\u001b[39m(\u001b[38;5;124m'\u001b[39m\u001b[38;5;124mElapsed time\u001b[39m\u001b[38;5;124m'\u001b[39m, end \u001b[38;5;241m-\u001b[39m start)\n",
      "\u001b[0;31mNameError\u001b[0m: name 'start' is not defined"
     ]
    }
   ],
   "source": [
    "start = time.time() ## CHECK HERE\n",
    "sol = solve_ivp(\n",
    "    fun = lambda t, y: fitzhugh(t, y, a, b, c, I),\n",
    "    t_span=(float(t_eval[0]), float(t_eval[-1])),\n",
    "    y0=[vinit, winit],\n",
    "    method='BDF',\n",
    "    t_eval=t_eval,\n",
    "    rtol = rtol,\n",
    "    atol=atol\n",
    ")\n",
    "\n",
    "t = sol.t\n",
    "v = sol.y[0, :]\n",
    "w = sol.y[1, :]\n",
    "end = time.time()\n",
    "print('Elapsed time', end - start)"
   ]
  },
  {
   "cell_type": "code",
   "execution_count": null,
   "id": "d28c85b0",
   "metadata": {},
   "outputs": [],
   "source": []
  }
 ],
 "metadata": {
  "kernelspec": {
   "display_name": "dataProject",
   "language": "python",
   "name": "python3"
  },
  "language_info": {
   "codemirror_mode": {
    "name": "ipython",
    "version": 3
   },
   "file_extension": ".py",
   "mimetype": "text/x-python",
   "name": "python",
   "nbconvert_exporter": "python",
   "pygments_lexer": "ipython3",
   "version": "3.11.8"
  }
 },
 "nbformat": 4,
 "nbformat_minor": 5
}
